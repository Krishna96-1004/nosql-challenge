{
 "cells": [
  {
   "cell_type": "markdown",
   "id": "9a57c4c6",
   "metadata": {},
   "source": [
    "# Eat Safe, Love"
   ]
  },
  {
   "cell_type": "markdown",
   "id": "064ef857",
   "metadata": {},
   "source": [
    "## Notebook Set Up"
   ]
  },
  {
   "cell_type": "code",
   "execution_count": null,
   "id": "3ecdd008",
   "metadata": {},
   "outputs": [],
   "source": [
    "# Import dependencies\n",
    "from pymongo import MongoClient\n",
    "from pprint import pprint"
   ]
  },
  {
   "cell_type": "code",
   "execution_count": null,
   "id": "59390c4a",
   "metadata": {},
   "outputs": [],
   "source": [
    "# Create an instance of MongoClient\n",
    "mongo = MongoClient(port=27017)"
   ]
  },
  {
   "cell_type": "code",
   "execution_count": null,
   "id": "71e373c1",
   "metadata": {},
   "outputs": [],
   "source": [
    "# assign the uk_food database to a variable name\n",
    "db = mongo['uk_food']"
   ]
  },
  {
   "cell_type": "code",
   "execution_count": null,
   "id": "18ab463c",
   "metadata": {},
   "outputs": [],
   "source": [
    "# review the collections in our database\n",
    "print(db.list_collection_names())"
   ]
  },
  {
   "cell_type": "code",
   "execution_count": null,
   "id": "c61717d8",
   "metadata": {},
   "outputs": [],
   "source": [
    "# review different rows in the establishments collection\n",
    "pprint(db.establishments.find_one())"
   ]
  },
  {
   "cell_type": "code",
   "execution_count": null,
   "id": "11c9f11b",
   "metadata": {},
   "outputs": [],
   "source": [
    "# assign the collection to a variable\n",
    "establishments = db['establishments']"
   ]
  },
  {
   "cell_type": "markdown",
   "id": "d5671434",
   "metadata": {},
   "source": [
    "## Part 3: Exploratory Analysis\n",
    "Unless otherwise stated, for each question: \n",
    "* Use `count_documents` to display the number of documents contained in the result.\n",
    "* Display the first document in the results using `pprint`.\n",
    "* Convert the result to a Pandas DataFrame, print the number of rows in the DataFrame, and display the first 10 rows."
   ]
  },
  {
   "cell_type": "markdown",
   "id": "314bd884",
   "metadata": {},
   "source": [
    "### 1. Which establishments have a hygiene score equal to 20?"
   ]
  },
  {
   "cell_type": "code",
   "execution_count": null,
   "id": "c2da7648",
   "metadata": {},
   "outputs": [],
   "source": [
    "# Find the establishments with a hygiene score of 20\n",
    "query = {'scores.Hygiene': {'$eq': 20}}\n",
    "\n",
    "# Use count_documents to display the number of documents in the result\n",
    "print(\"The number of documents with a hygiene score of 20 is:\", establishments.count_documents(query))\n",
    "\n",
    "# Display the first document in the results using pprint\n",
    "pprint(db.establishments.find_one(query))"
   ]
  },
  {
   "cell_type": "code",
   "execution_count": null,
   "id": "7faa1abb",
   "metadata": {},
   "outputs": [],
   "source": [
    "collection_results = list(establishments.find(query))"
   ]
  },
  {
   "cell_type": "code",
   "execution_count": null,
   "id": "a6e5cece",
   "metadata": {},
   "outputs": [],
   "source": [
    "# Convert the result to a Pandas DataFrame\n",
    "pandas_df = pd.DataFrame(collection_results)\n",
    "\n",
    "# Display the number of rows in the DataFrame\n",
    "print(\"Rows in DataFrame: \", len(pandas_df))\n",
    "\n",
    "# Display the first 10 rows of the DataFrame\n",
    "pandas_df.head(10)"
   ]
  },
  {
   "cell_type": "markdown",
   "id": "0ef4395a",
   "metadata": {},
   "source": [
    "### 2. Which establishments in London have a `RatingValue` greater than or equal to 4?"
   ]
  },
  {
   "cell_type": "code",
   "execution_count": null,
   "id": "93c63829",
   "metadata": {},
   "outputs": [],
   "source": [
    "# Find the establishments with London as the Local Authority and has a RatingValue greater than or equal to 4.\n",
    "query_rating = {'LocalAuthorityName': {'$regex': 'London'}, \n",
    "         'RatingValue': {'$gte': '4'}}\n",
    "\n",
    "# Use count_documents to display the number of documents in the result\n",
    "print(\"Number of establishments in London with a RatingValue greater than or equal to 4 is:\", establishments.count_documents(query_rating))\n",
    "\n",
    "\n",
    "# Display the first document in the results using pprint\n",
    "pprint(db.establishments.find_one(query_rating))\n"
   ]
  },
  {
   "cell_type": "code",
   "execution_count": null,
   "id": "07e24ccb",
   "metadata": {},
   "outputs": [],
   "source": [
    "# Save the results to a variable first.\n",
    "rating_results = list(establishments.find(query_rating))\n",
    "\n",
    "# Convert the result to a Pandas DataFrame\n",
    "query_rating_df = pd.DataFrame(rating_results)\n",
    "\n",
    "# Display the number of rows in the DataFrame\n",
    "print(\"Number of Rows in the DataFrame: \", len(query_rating_df))\n",
    "\n",
    "# Display the first 10 rows of the DataFrame\n",
    "query_rating_df.head(10)"
   ]
  },
  {
   "attachments": {},
   "cell_type": "markdown",
   "id": "4e570caf",
   "metadata": {},
   "source": [
    "### 3. What are the top 5 establishments with a `RatingValue` rating value of 5, sorted by lowest hygiene score, nearest to the new restaurant added, \"Penang Flavours\"?"
   ]
  },
  {
   "cell_type": "code",
   "execution_count": null,
   "id": "7f599f3d",
   "metadata": {},
   "outputs": [],
   "source": [
    "# Search within 0.01 degree on either side of the latitude and longitude.\n",
    "# Rating value must equal 5\n",
    "# Sort by hygiene score\n",
    "\n",
    "latitude_val = establishments.update_many({}, [\n",
    "                                                {'$set':\n",
    "                                                        {\"geocode.latitude\":\n",
    "                                                            {'$toDecimal': \"$geocode.latitude\"}\n",
    "                                                        }\n",
    "                                                }\n",
    "                                            ]\n",
    "                                      )\n",
    "\n",
    "longitud_val = establishments.update_many({}, [\n",
    "                                                {'$set':\n",
    "                                                        {\"geocode.longitude\":\n",
    "                                                            {'$toDecimal': \"$geocode.longitude\"}\n",
    "                                                        }\n",
    "                                                }\n",
    "                                            ]\n",
    "                                         )\n",
    "\n",
    "# Set the limit to 5\n",
    "limit = 5\n",
    "degree_search = 0.01\n",
    "latitude = 51.49014200\n",
    "longitude = 0.08384000\n",
    "\n",
    "query_geolocation = {'geocode.latitude': {'$gte': latitude - degree_search, '$lte': latitude + degree_search}, \n",
    "         'geocode.longitude': {'$gte': longitude - degree_search, '$lte': longitude + degree_search},\n",
    "         'RatingValue': '4'\n",
    "        }\n",
    "sort =  [('scores.Hygiene', -1)]\n",
    "\n",
    "\n",
    "# Print the results\n",
    "pprint(list(establishments.find(query_geolocation).sort(sort).limit(limit)))\n",
    "\n"
   ]
  },
  {
   "cell_type": "code",
   "execution_count": null,
   "id": "a6ad16f7",
   "metadata": {},
   "outputs": [],
   "source": [
    "# Save the results to a variable after running the query as a list.\n",
    "results_final = list(establishments.find(query_geolocation).sort(sort).limit(limit))\n",
    "\n",
    "# Convert result to Pandas DataFrame\n",
    "query_df = pd.DataFrame(results_final)\n",
    "\n",
    "# Print number of rows in the DataFrame\n",
    "print(\"Number of Rows in the DataFrame: \", len(query_df))\n",
    "\n",
    "# Display the top 10 rows of the DataFrame\n",
    "query_df.head(10)"
   ]
  },
  {
   "cell_type": "markdown",
   "id": "67281254",
   "metadata": {},
   "source": [
    "### 4. How many establishments in each Local Authority area have a hygiene score of 0?"
   ]
  },
  {
   "cell_type": "code",
   "execution_count": null,
   "id": "4eeb227e",
   "metadata": {},
   "outputs": [],
   "source": [
    "# Create a pipeline that: \n",
    "# 1. Matches establishments with a hygiene score of 0\n",
    "match_establishments = {'$match': {'scores.Hygiene': {'$eq': 0}}}\n",
    "\n",
    "# 2. Groups the matches by Local Authority\n",
    "group_by_localAuthority = {'$group': {'_id': \"$LocalAuthorityName\", 'count': { '$sum': 1 }}}\n",
    "\n",
    "# 3. Sorts the matches from highest to lowest\n",
    "sort_matches = {'$sort': { 'count': -1 }}\n",
    "\n",
    "# Build the pipeline\n",
    "pipeline = [match_establishments, group_by_localAuthority, sort_matches]\n",
    "\n",
    "# Run the pipeline through the aggregate method, cast the results as a list, and save the results to a variable\n",
    "pipeline_results = list(establishments.aggregate(pipeline))\n",
    "\n",
    "# Print the number of documents in the result\n",
    "print(\"Total number of establishments in each Local Authority area that have a hygiene score of 0: \", len(pipeline_results))\n",
    "\n",
    "# Print the first 10 results\n",
    "pprint(pipeline_results[0:10])"
   ]
  },
  {
   "cell_type": "code",
   "execution_count": null,
   "id": "d8aab364",
   "metadata": {},
   "outputs": [],
   "source": [
    "# Convert the result to a Pandas DataFrame\n",
    "pipeline_df = pd.DataFrame(pipeline_results)\n",
    "\n",
    "# Display the number of rows in the DataFrame\n",
    "print(\"Number of Rows in DataFrame: \", len(pipeline_df))\n",
    "\n",
    "# Display the first 10 rows of the DataFrame\n",
    "pipeline_df.head(10)"
   ]
  }
 ],
 "metadata": {
  "kernelspec": {
   "display_name": "Python 3 (ipykernel)",
   "language": "python",
   "name": "python3"
  },
  "language_info": {
   "codemirror_mode": {
    "name": "ipython",
    "version": 3
   },
   "file_extension": ".py",
   "mimetype": "text/x-python",
   "name": "python",
   "nbconvert_exporter": "python",
   "pygments_lexer": "ipython3",
   "version": "3.10.4"
  }
 },
 "nbformat": 4,
 "nbformat_minor": 5
}
